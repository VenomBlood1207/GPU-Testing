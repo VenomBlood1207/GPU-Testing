{
 "cells": [
  {
   "cell_type": "code",
   "execution_count": null,
   "metadata": {},
   "outputs": [],
   "source": [
    "import torch\n",
    "import time\n",
    "\n",
    "def gpu_benchmark():\n",
    "    if not torch.cuda.is_available():\n",
    "        print(\"CUDA is not available on this system.\")\n",
    "        return\n",
    "    \n",
    "    # Get the GPU name\n",
    "    device = torch.device(\"cuda:0\")\n",
    "    gpu_name = torch.cuda.get_device_name(device)\n",
    "    print(f\"Using GPU: {gpu_name}\\n\")\n",
    "\n",
    "    # Warm up GPU\n",
    "    print(\"Warming up the GPU...\")\n",
    "    for _ in range(10):\n",
    "        torch.randn(1000, 1000, device=device).matmul(torch.randn(1000, 1000, device=device))\n",
    "    torch.cuda.synchronize()\n",
    "\n",
    "    # Benchmark settings\n",
    "    sizes = [10000, 20000]\n",
    "    results = []\n",
    "\n",
    "    for size in sizes:\n",
    "        print(f\"Benchmarking matrix multiplication of size {size}x{size}...\")\n",
    "        a = torch.randn(size, size, device=device)\n",
    "        b = torch.randn(size, size, device=device)\n",
    "\n",
    "        start_time = time.time()\n",
    "        for _ in range(10):  # Run the operation 10 times\n",
    "            c = a.matmul(b)\n",
    "        torch.cuda.synchronize()\n",
    "        end_time = time.time()\n",
    "\n",
    "        avg_time = (end_time - start_time) / 10\n",
    "        tflops = 2 * (size ** 3) / (avg_time * 1e12)\n",
    "        results.append((size, avg_time, tflops))\n",
    "\n",
    "    print(\"\\nBenchmark Results:\")\n",
    "    print(f\"{'Size':<10}{'Avg Time (s)':<15}{'TFLOPS':<10}\")\n",
    "    for size, avg_time, tflops in results:\n",
    "        print(f\"{size:<10}{avg_time:<15.6f}{tflops:<10.2f}\")\n",
    "\n",
    "if __name__ == \"__main__\":\n",
    "    gpu_benchmark()\n"
   ]
  }
 ],
 "metadata": {
  "kernelspec": {
   "display_name": "torch_env",
   "language": "python",
   "name": "python3"
  },
  "language_info": {
   "codemirror_mode": {
    "name": "ipython",
    "version": 3
   },
   "file_extension": ".py",
   "mimetype": "text/x-python",
   "name": "python",
   "nbconvert_exporter": "python",
   "pygments_lexer": "ipython3",
   "version": "3.12.8"
  }
 },
 "nbformat": 4,
 "nbformat_minor": 2
}
